{
 "cells": [
  {
   "cell_type": "markdown",
   "metadata": {},
   "source": [
    "#Sample iPython Notebook"
   ]
  },
  {
   "cell_type": "markdown",
   "metadata": {},
   "source": [
    "By [Sebastian Raschka](http://www.sebastianraschka.com)  \n"
   ]
  },
  {
   "cell_type": "code",
   "execution_count": 1,
   "metadata": {
    "scrolled": true
   },
   "outputs": [
    {
     "name": "stdout",
     "output_type": "stream",
     "text": [
      "Last updated: 12/04/2017\n",
      "3.5.3 |Continuum Analytics, Inc.| (default, Mar  6 2017, 12:15:08) \n",
      "[GCC 4.2.1 Compatible Apple LLVM 6.0 (clang-600.0.57)]\n"
     ]
    }
   ],
   "source": [
    "import time\n",
    "import sys\n",
    "print('Last updated: %s' %time.strftime('%d/%m/%Y'))\n",
    "print(sys.version)"
   ]
  },
  {
   "cell_type": "markdown",
   "metadata": {},
   "source": [
    "# An exhibit of Markdown\n",
    "\n",
    "This note demonstrates some of what [Markdown][1] is capable of doing.\n",
    "\n",
    "*Note: Feel free to play with this page. Unlike regular notes, this doesn't automatically save itself.*\n",
    "\n",
    "## Basic formatting\n",
    "\n",
    "Paragraphs can be written like so. A paragraph is the basic block of Markdown. A paragraph is what text will turn into when there is no reason it should become anything else.\n",
    "\n",
    "Paragraphs must be separated by a blank line. Basic formatting of *italics* and **bold** is supported. This *can be **nested** like* so.\n",
    "\n",
    "## Headings\n",
    "\n",
    "# Heading 1\n",
    "## Heading 2\n",
    "### Heading 3\n",
    "#### Heading 4\n",
    "##### Heading 5\n",
    "###### Heading 6\n",
    "\n",
    "There are six levels of headings. They correspond with the six levels of HTML headings. You've probably noticed them already in the page. Each level down uses one more hash character.\n",
    "\n",
    "### Headings *can* also contain **formatting**\n",
    "\n",
    "### They can even contain `inline code`\n",
    "\n",
    "Of course, demonstrating what headings look like messes up the structure of the page.\n",
    "\n",
    "I don't recommend using more than three or four levels of headings here, because, when you're smallest heading isn't too small, and you're largest heading isn't too big, and you want each size up to look noticeably larger and more important, there there are only so many sizes that you can use.\n",
    "\n",
    "## Lists\n",
    "\n",
    "### Ordered list\n",
    "\n",
    "1. Item 1\n",
    "2. A second item\n",
    "3. Number 3\n",
    "4. Ⅳ\n",
    "\n",
    "*Note: the fourth item uses the Unicode character for [Roman numeral four][2].*\n",
    "\n",
    "### Unordered list\n",
    "\n",
    "* An item\n",
    "* Another item\n",
    "* Yet another item\n",
    "* And there's more...\n",
    "\n",
    "## Paragraph modifiers\n",
    "\n",
    "### Code block\n",
    "\n",
    "    Code blocks are very useful for developers and other people who look at code or other things that are written in plain text. As you can see, it uses a fixed-width font.\n",
    "\n",
    "You can also make `inline code` to add code into other things.\n",
    "\n",
    "### Quote\n",
    "\n",
    "> Here is a quote. What this is should be self explanatory. Quotes are automatically indented when they are used.\n",
    "\n",
    "## URLs\n",
    "\n",
    "URLs can be made in a handful of ways:\n",
    "\n",
    "* A named link to [MarkItDown][3]. The easiest way to do these is to select what you want to make a link and hit `Ctrl+L`.\n",
    "* Another named link to [MarkItDown](http://www.markitdown.net/)\n",
    "* Sometimes you just want a URL like <http://www.markitdown.net/>.\n",
    "\n",
    "## Horizontal rule\n",
    "\n",
    "A horizontal rule is a line that goes across the middle of the page.\n",
    "\n",
    "---\n",
    "\n",
    "It's sometimes handy for breaking things up.\n",
    "\n",
    "## Images\n",
    "\n",
    "Markdown can also contain images. I'll need to add something here sometime.\n",
    "\n",
    "## Finally\n",
    "\n",
    "There's actually a lot more to Markdown than this. See the official [introduction][4] and [syntax][5] for more information. However, be aware that this is not using the official implementation, and this might work subtly differently in some of the little things.\n",
    "\n",
    "\n",
    "  [1]: http://daringfireball.net/projects/markdown/\n",
    "  [2]: http://www.fileformat.info/info/unicode/char/2163/index.htm\n",
    "  [3]: http://www.markitdown.net/\n",
    "  [4]: http://daringfireball.net/projects/markdown/basics\n",
    "  [5]: http://daringfireball.net/projects/markdown/syntax"
   ]
  },
  {
   "cell_type": "markdown",
   "metadata": {},
   "source": [
    "# Linear regression via the least squares fit method"
   ]
  },
  {
   "cell_type": "markdown",
   "metadata": {},
   "source": [
    "## Sections"
   ]
  },
  {
   "cell_type": "markdown",
   "metadata": {},
   "source": [
    "- [Introduction](#Introduction)\n",
    "\n",
    "- [Least squares fit implementations](#Least-squares-fit-implementations)\n",
    "\n",
    "    - [The matrix approach in Python and NumPy](#The-matrix-approach-in-Python-and-NumPy)\n",
    "    \n",
    "    - [The classic approach in Python](#The-classic-approach-in-Python)\n",
    "    \n",
    "- [Visualization](#Visualization)\n",
    "\n",
    "- [Performance growth rates](#Performance-growth-rates)\n",
    "\n",
    "- [Results](#Results)"
   ]
  },
  {
   "cell_type": "markdown",
   "metadata": {},
   "source": [
    "# Introduction"
   ]
  },
  {
   "cell_type": "markdown",
   "metadata": {},
   "source": [
    "Linear regression via the least squares method is the simplest approach to performing a regression analysis of a dependent and a explanatory variable. The objective is to find the best-fitting straight line through a set of points that minimizes the sum of the squared offsets from the line.  \n",
    "The offsets come in 2 different flavors: perpendicular and vertical - with respect to the line.  \n",
    "![](https://raw.githubusercontent.com/rasbt/python_reference/master/Images/least_squares_vertical.png)  \n",
    "![](https://raw.githubusercontent.com/rasbt/python_reference/master/Images/least_squares_perpendicular.png)  \n",
    "\n",
    "As Michael Burger summarizes it nicely in his article \"[Problems of Linear Least Square Regression - And Approaches to Handle Them](http://www.arsa-conf.com/archive/?vid=1&aid=2&kid=60101-220)\": \"the perpendicular offset method delivers a more precise result but is are more complicated to handle. Therefore normally the vertical offsets are used.\"  \n",
    "Here, we will also use the method of computing the vertical offsets.\n",
    "\n"
   ]
  },
  {
   "cell_type": "markdown",
   "metadata": {},
   "source": [
    "In more mathematical terms, our goal is to compute the best fit to *n* points $(x_i, y_i)$ with $i=1,2,...n,$ via linear equation of the form  \n",
    "$f(x) = a\\cdot x + b$.  \n",
    "We further have to assume that the y-component is  functionally dependent on the x-component.  \n",
    "In a cartesian coordinate system, $b$ is the intercept of the straight line with the y-axis, and $a$ is the slope of this line."
   ]
  },
  {
   "cell_type": "markdown",
   "metadata": {},
   "source": [
    "In order to obtain the parameters for the linear regression line for a set of multiple points, we can re-write the problem as matrix equation  \n",
    "$\\pmb X \\; \\pmb a = \\pmb y$"
   ]
  },
  {
   "cell_type": "markdown",
   "metadata": {},
   "source": [
    "$\\Rightarrow\\Bigg[ \\begin{array}{cc}\n",
    "x_1 & 1  \\\\\n",
    "... & 1 \\\\\n",
    "x_n & 1  \\end{array} \\Bigg]$\n",
    "$\\bigg[ \\begin{array}{c}\n",
    "a  \\\\\n",
    "b \\end{array} \\bigg]$\n",
    "$=\\Bigg[ \\begin{array}{c}\n",
    "y_1   \\\\\n",
    "...  \\\\\n",
    "y_n  \\end{array} \\Bigg]$"
   ]
  },
  {
   "cell_type": "markdown",
   "metadata": {},
   "source": [
    "With a little bit of calculus, we can rearrange the term in order to obtain the parameter vector $\\pmb a = [a\\;b]^T$"
   ]
  },
  {
   "cell_type": "markdown",
   "metadata": {},
   "source": [
    "$\\Rightarrow \\pmb a = (\\pmb X^T \\; \\pmb X)^{-1} \\pmb X^T \\; \\pmb y$"
   ]
  },
  {
   "cell_type": "markdown",
   "metadata": {},
   "source": [
    "<br>\n",
    "The more classic approach to obtain the slope parameter $a$ and y-axis intercept $b$ would be:"
   ]
  },
  {
   "cell_type": "markdown",
   "metadata": {},
   "source": [
    "$a = \\frac{S_{x,y}}{\\sigma_{x}^{2}}\\quad$  (slope)\n",
    "\n",
    "\n",
    "$b = \\bar{y} - a\\bar{x}\\quad$ (y-axis intercept)"
   ]
  },
  {
   "cell_type": "markdown",
   "metadata": {},
   "source": [
    "where \n",
    "\n",
    "\n",
    "$S_{xy} = \\sum_{i=1}^{n} (x_i - \\bar{x})(y_i - \\bar{y})\\quad$ (covariance)\n",
    "\n",
    "\n",
    "$\\sigma{_x}^{2} = \\sum_{i=1}^{n} (x_i - \\bar{x})^2\\quad$ (variance)"
   ]
  },
  {
   "cell_type": "markdown",
   "metadata": {},
   "source": [
    "# Least squares fit implementations"
   ]
  },
  {
   "cell_type": "markdown",
   "metadata": {},
   "source": [
    "### The matrix approach in Python and NumPy"
   ]
  },
  {
   "cell_type": "markdown",
   "metadata": {},
   "source": [
    "First, let us implement the equation:"
   ]
  },
  {
   "cell_type": "markdown",
   "metadata": {},
   "source": [
    "$\\pmb a = (\\pmb X^T \\; \\pmb X)^{-1} \\pmb X^T \\; \\pmb y$"
   ]
  },
  {
   "cell_type": "markdown",
   "metadata": {},
   "source": [
    "which I will refer to as the \"matrix approach\"."
   ]
  },
  {
   "cell_type": "markdown",
   "metadata": {},
   "source": [
    "#### Matrix approach implemented in NumPy and (C)Python"
   ]
  },
  {
   "cell_type": "code",
   "execution_count": 2,
   "metadata": {},
   "outputs": [],
   "source": [
    "import numpy as np\n",
    "\n",
    "def matrix_lstsqr(x, y):\n",
    "    \"\"\" Computes the least-squares solution to a linear matrix equation. \"\"\"\n",
    "    X = np.vstack([x, np.ones(len(x))]).T\n",
    "    return (np.linalg.inv(X.T.dot(X)).dot(X.T)).dot(y)"
   ]
  },
  {
   "cell_type": "markdown",
   "metadata": {},
   "source": [
    "### The classic approach in Python"
   ]
  },
  {
   "cell_type": "markdown",
   "metadata": {},
   "source": [
    "Next, we will calculate the parameters separately, using standard library functions in Python only, which I will call the \"classic approach\"."
   ]
  },
  {
   "cell_type": "markdown",
   "metadata": {},
   "source": [
    "$a = \\frac{S_{x,y}}{\\sigma_{x}^{2}}\\quad$  (slope)\n",
    "\n",
    "\n",
    "$b = \\bar{y} - a\\bar{x}\\quad$ (y-axis intercept)"
   ]
  },
  {
   "cell_type": "markdown",
   "metadata": {},
   "source": [
    "Note: I refrained from using list comprehensions and convenience functions such as `zip()` in\n",
    "order to maximize the performance for the Cython compilation into C code in the later sections.\n",
    "    "
   ]
  },
  {
   "cell_type": "markdown",
   "metadata": {},
   "source": [
    "#### Implemented in (C)Python"
   ]
  },
  {
   "cell_type": "code",
   "execution_count": 3,
   "metadata": {},
   "outputs": [],
   "source": [
    "def classic_lstsqr(x_list, y_list):\n",
    "    \"\"\" Computes the least-squares solution to a linear matrix equation. \"\"\"\n",
    "    N = len(x_list)\n",
    "    x_avg = sum(x_list)/N\n",
    "    y_avg = sum(y_list)/N\n",
    "    var_x, cov_xy = 0, 0\n",
    "    for x,y in zip(x_list, y_list):\n",
    "        temp = x - x_avg\n",
    "        var_x += temp**2\n",
    "        cov_xy += temp * (y - y_avg)\n",
    "    slope = cov_xy / var_x\n",
    "    y_interc = y_avg - slope*x_avg\n",
    "    return (slope, y_interc)"
   ]
  },
  {
   "cell_type": "markdown",
   "metadata": {},
   "source": [
    "## Visualization"
   ]
  },
  {
   "cell_type": "markdown",
   "metadata": {},
   "source": [
    "To check how our dataset is distributed, and how the least squares regression line looks like, we will plot the results in a scatter plot.  \n",
    "Note that we are only using our \"matrix approach\" to visualize the results - for simplicity. We expect both approaches to produce similar results, which we confirm with the code snippet below."
   ]
  },
  {
   "cell_type": "code",
   "execution_count": 4,
   "metadata": {},
   "outputs": [
    {
     "name": "stdout",
     "output_type": "stream",
     "text": [
      "ok\n"
     ]
    }
   ],
   "source": [
    "import random\n",
    "import numpy as np\n",
    "\n",
    "random.seed(12345)\n",
    "\n",
    "x = [x_i*random.randrange(8,12)/10 for x_i in range(500)]\n",
    "y = [y_i*random.randrange(8,12)/10 for y_i in range(100,600)]\n",
    "\n",
    "np.testing.assert_almost_equal(\n",
    "    classic_lstsqr(x, y), matrix_lstsqr(x, y), decimal=5)  \n",
    "    \n",
    "print('ok')"
   ]
  },
  {
   "cell_type": "code",
   "execution_count": 5,
   "metadata": {},
   "outputs": [],
   "source": [
    "%matplotlib inline"
   ]
  },
  {
   "cell_type": "code",
   "execution_count": 6,
   "metadata": {
    "scrolled": false
   },
   "outputs": [
    {
     "data": {
      "image/png": "[encoded data removed]",
      "text/plain": [
       "<matplotlib.figure.Figure at 0x10ed22e80>"
      ]
     },
     "metadata": {},
     "output_type": "display_data"
    }
   ],
   "source": [
    "from matplotlib import pyplot as plt\n",
    "import random\n",
    "\n",
    "random.seed(12345)\n",
    "\n",
    "x = [x_i*random.randrange(8,12)/10 for x_i in range(500)]\n",
    "y = [y_i*random.randrange(8,12)/10 for y_i in range(100,600)]\n",
    "\n",
    "slope, intercept = matrix_lstsqr(x, y)\n",
    "\n",
    "line_x = [round(min(x)) - 1, round(max(x)) + 1]\n",
    "line_y = [slope*x_i + intercept for x_i in line_x]\n",
    "\n",
    "plt.figure(figsize=(8,8))\n",
    "plt.scatter(x,y)\n",
    "plt.plot(line_x, line_y, color='red', lw=2)\n",
    "\n",
    "plt.ylabel('y')\n",
    "plt.xlabel('x')\n",
    "plt.title('Linear regression via least squares fit')\n",
    "\n",
    "ftext = 'y = ax + b = {:.3f} + {:.3f}x'\\\n",
    "        .format(slope, intercept)\n",
    "plt.figtext(.15,.8, ftext, fontsize=11, ha='left')\n",
    "\n",
    "plt.show()"
   ]
  },
  {
   "cell_type": "markdown",
   "metadata": {},
   "source": [
    "# Performance growth rates"
   ]
  },
  {
   "cell_type": "markdown",
   "metadata": {},
   "source": [
    "Now, finally let us take a look at the effect of different sample sizes on the relative performances for each approach."
   ]
  },
  {
   "cell_type": "code",
   "execution_count": 7,
   "metadata": {},
   "outputs": [],
   "source": [
    "import timeit\n",
    "import random\n",
    "random.seed(12345)\n",
    "\n",
    "funcs =  ['classic_lstsqr', 'matrix_lstsqr']\n",
    "\n",
    "orders_n = [10**n for n in range(1,5)]\n",
    "timings = {f:[] for f in funcs}\n",
    "\n",
    "for n in orders_n:\n",
    "    x_list = ([x_i*np.random.randint(8,12)/10 for x_i in range(n)])\n",
    "    y_list = ([y_i*np.random.randint(10,14)/10 for y_i in range(n)])\n",
    "    x_ary = np.asarray(x_list)\n",
    "    y_ary = np.asarray(y_list)\n",
    "    timings['classic_lstsqr'].append(min(timeit.Timer('classic_lstsqr(x_list, y_list)', \n",
    "            'from __main__ import classic_lstsqr, x_list, y_list')\\\n",
    "                                         .repeat(repeat=3, number=1000)))\n",
    "    timings['matrix_lstsqr'].append(min(timeit.Timer('matrix_lstsqr(x_ary, y_ary)', \n",
    "            'from __main__ import matrix_lstsqr, x_ary, y_ary')\\\n",
    "                                         .repeat(repeat=3, number=1000)))"
   ]
  },
  {
   "cell_type": "code",
   "execution_count": 8,
   "metadata": {},
   "outputs": [],
   "source": [
    "import platform\n",
    "import multiprocessing\n",
    "\n",
    "def print_sysinfo():\n",
    "    \n",
    "    print('\\nPython version  :', platform.python_version())\n",
    "    print('compiler        :', platform.python_compiler())\n",
    "    print('NumPy version   :', np.__version__)\n",
    "    \n",
    "    print('\\nsystem     :', platform.system())\n",
    "    print('release    :', platform.release())\n",
    "    print('machine    :', platform.machine())\n",
    "    print('processor  :', platform.processor())\n",
    "    print('CPU count  :', multiprocessing.cpu_count())\n",
    "    print('interpreter:', platform.architecture()[0])\n",
    "    print('\\n\\n')"
   ]
  },
  {
   "cell_type": "code",
   "execution_count": 9,
   "metadata": {},
   "outputs": [],
   "source": [
    "import matplotlib.pyplot as plt\n",
    "\n",
    "def plot(timings, title, labels, orders_n):\n",
    "    plt.rcParams.update({'font.size': 12})\n",
    "\n",
    "    fig = plt.figure(figsize=(11,10))\n",
    "    for lb in labels:\n",
    "        plt.plot(orders_n, timings[lb], alpha=0.5, label=labels[lb], \n",
    "                 marker='o', lw=3)\n",
    "    plt.xlabel('sample size n')\n",
    "    plt.ylabel('time per computation in milliseconds')\n",
    "    #plt.xlim([min(orders_n) / 10, max(orders_n)* 10])\n",
    "    plt.legend(loc=2)\n",
    "    plt.grid()\n",
    "    plt.xscale('log')\n",
    "    plt.yscale('log')\n",
    "    plt.title(title)\n",
    "    plt.show()"
   ]
  },
  {
   "cell_type": "markdown",
   "metadata": {},
   "source": [
    "# Results"
   ]
  },
  {
   "cell_type": "code",
   "execution_count": 10,
   "metadata": {},
   "outputs": [
    {
     "name": "stdout",
     "output_type": "stream",
     "text": [
      "\n",
      "Python version  : 3.5.3\n",
      "compiler        : GCC 4.2.1 Compatible Apple LLVM 6.0 (clang-600.0.57)\n",
      "NumPy version   : 1.12.1\n",
      "\n",
      "system     : Darwin\n",
      "release    : 16.5.0\n",
      "machine    : x86_64\n",
      "processor  : i386\n",
      "CPU count  : 8\n",
      "interpreter: 64bit\n",
      "\n",
      "\n",
      "\n"
     ]
    },
    {
     "data": {
      "image/png": "[encoded data removed]",
      "text/plain": [
       "<matplotlib.figure.Figure at 0x10ed10eb8>"
      ]
     },
     "metadata": {},
     "output_type": "display_data"
    }
   ],
   "source": [
    "title = 'Performance of Linear Regression Least Squares Fits'\n",
    "\n",
    "labels = {'classic_lstsqr': '\"classic\" least squares in (C)Python',\n",
    "          'matrix_lstsqr': '\"matrix\" least squares in in (C)Python + NumPy',\n",
    "         }\n",
    "\n",
    "print_sysinfo()\n",
    "plot(timings, title, labels, orders_n)"
   ]
  },
  {
   "cell_type": "markdown",
   "metadata": {},
   "source": [
    "# Errors and Exceptions"
   ]
  },
  {
   "cell_type": "code",
   "execution_count": 11,
   "metadata": {},
   "outputs": [
    {
     "ename": "ImportError",
     "evalue": "No module named 'thislibrarydoesnotexist'",
     "output_type": "error",
     "traceback": [
      "\u001b[0;31m---------------------------------------------------------------------------\u001b[0m",
      "\u001b[0;31mImportError\u001b[0m                               Traceback (most recent call last)",
      "\u001b[0;32m<ipython-input-11-6177b8a92153>\u001b[0m in \u001b[0;36m<module>\u001b[0;34m()\u001b[0m\n\u001b[0;32m----> 1\u001b[0;31m \u001b[0;32mimport\u001b[0m \u001b[0mthislibrarydoesnotexist\u001b[0m\u001b[0;34m\u001b[0m\u001b[0m\n\u001b[0m",
      "\u001b[0;31mImportError\u001b[0m: No module named 'thislibrarydoesnotexist'"
     ]
    }
   ],
   "source": [
    "import thislibrarydoesnotexist"
   ]
  },
  {
   "cell_type": "code",
   "execution_count": null,
   "metadata": {},
   "outputs": [],
   "source": [
    "undef = 1/0"
   ]
  },
  {
   "cell_type": "code",
   "execution_count": null,
   "metadata": {
    "collapsed": true
   },
   "outputs": [],
   "source": []
  }
 ],
 "metadata": {
  "anaconda-cloud": {},
  "kernelspec": {
   "display_name": "Python [default]",
   "language": "python",
   "name": "python3"
  },
  "language_info": {
   "codemirror_mode": {
    "name": "ipython",
    "version": 3
   },
   "file_extension": ".py",
   "mimetype": "text/x-python",
   "name": "python",
   "nbconvert_exporter": "python",
   "pygments_lexer": "ipython3",
   "version": "3.5.3"
  }
 },
 "nbformat": 4,
 "nbformat_minor": 1
}
